{
 "cells": [
  {
   "cell_type": "code",
   "execution_count": null,
   "metadata": {},
   "outputs": [],
   "source": []
  },
  {
   "cell_type": "code",
   "execution_count": 1,
   "metadata": {},
   "outputs": [],
   "source": [
    "def APatK ( predictions, solution, K ):\n",
    "        \"\"\"Calculates AP@k given a file with IDs                                                                              \n",
    "        sorted in order of relevance and a file with the                                                                      \n",
    "        relevant IDs\"\"\"\n",
    "\n",
    "        countRelevants = 0\n",
    "        listOfPrecisions = list()\n",
    "        for i, line in enumerate(predictions):\n",
    "                currentk = i + 1.0\n",
    "                if line in solution:\n",
    "                        countRelevants += 1\n",
    "                precisionAtK = countRelevants / currentk\n",
    "                listOfPrecisions.append(precisionAtK)\n",
    "                if currentk == K:\n",
    "                        break\n",
    "        return sum( listOfPrecisions ) / K\n",
    "    "
   ]
  },
  {
   "cell_type": "code",
   "execution_count": 2,
   "metadata": {},
   "outputs": [
    {
     "data": {
      "text/plain": [
       "0.7222222222222222"
      ]
     },
     "execution_count": 2,
     "metadata": {},
     "output_type": "execute_result"
    }
   ],
   "source": [
    "actual=['a', 'b', 'd']\n",
    "predicted = ['b', 'c', 'a', 'e', 'f']\n",
    "APatK(predicted, actual,3)"
   ]
  }
 ],
 "metadata": {
  "kernelspec": {
   "display_name": "Python 3",
   "language": "python",
   "name": "python3"
  },
  "language_info": {
   "codemirror_mode": {
    "name": "ipython",
    "version": 3
   },
   "file_extension": ".py",
   "mimetype": "text/x-python",
   "name": "python",
   "nbconvert_exporter": "python",
   "pygments_lexer": "ipython3",
   "version": "3.6.5"
  }
 },
 "nbformat": 4,
 "nbformat_minor": 2
}
